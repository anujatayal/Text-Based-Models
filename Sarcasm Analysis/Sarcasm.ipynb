{
 "cells": [
  {
   "cell_type": "code",
   "execution_count": 2,
   "metadata": {},
   "outputs": [],
   "source": [
    "import tensorflow as tf\n",
    "from tensorflow import keras\n",
    "from tensorflow.keras.preprocessing.text import Tokenizer\n",
    "#import nltk\n",
    "from tensorflow.keras.preprocessing.sequence import pad_sequences\n",
    "import tensorflow_datasets as tfds\n",
    "import json\n",
    "import numpy as np\n"
   ]
  },
  {
   "cell_type": "code",
   "execution_count": 33,
   "metadata": {},
   "outputs": [],
   "source": [
    "vocab_size=1000\n",
    "embedding_dim=16\n",
    "max_length=16\n",
    "trunc_type='post'\n",
    "padding_type='post'\n",
    "oov_tok=\"<OOV>\"\n",
    "training_size=20000"
   ]
  },
  {
   "cell_type": "code",
   "execution_count": 4,
   "metadata": {},
   "outputs": [],
   "source": [
    "with open(\"sarcasm.json\",'r') as f:\n",
    "    datastore=json.load(f)\n"
   ]
  },
  {
   "cell_type": "code",
   "execution_count": 8,
   "metadata": {},
   "outputs": [],
   "source": [
    "sentences=[]\n",
    "labels=[]\n",
    "urls=[]\n",
    "for item in datastore:\n",
    "    sentences.append(item['headline'])\n",
    "    labels.append(item['is_sarcastic'])\n",
    "    urls.append(item['article_link'])"
   ]
  },
  {
   "cell_type": "code",
   "execution_count": 9,
   "metadata": {},
   "outputs": [
    {
     "name": "stdout",
     "output_type": "stream",
     "text": [
      "29657\n",
      "mom starting to fear son's web series closest thing she will have to grandchild\n",
      "[  145   838     2   907  1749  2093   582  4719   221   143    39    46\n",
      "     2 10736     0     0     0     0     0     0     0     0     0     0\n",
      "     0     0     0     0     0     0     0     0     0     0     0     0\n",
      "     0     0     0     0]\n",
      "(26709, 40)\n"
     ]
    }
   ],
   "source": []
  },
  {
   "cell_type": "code",
   "execution_count": 17,
   "metadata": {},
   "outputs": [],
   "source": [
    "training_sentences=sentences[0:training_size]\n",
    "testing_sentences=sentences[training_size:]\n",
    "training_labels=labels[0:training_size]\n",
    "testing_labels=labels[training_size:]\n",
    "# training_labels"
   ]
  },
  {
   "cell_type": "code",
   "execution_count": 34,
   "metadata": {},
   "outputs": [],
   "source": [
    "tokenizer=Tokenizer(num_words=vocab_size,oov_token=oov_tok)\n",
    "tokenizer.fit_on_texts(training_sentences)\n",
    "word_index=tokenizer.word_index\n",
    "sequences=tokenizer.texts_to_sequences(training_sentences)\n",
    "sequences_test=tokenizer.texts_to_sequences(testing_sentences)\n",
    "padded=pad_sequences(sequences,truncating=trunc_type,padding=padding_type,maxlen=max_length)\n",
    "testing_padded=pad_sequences(sequences_test,padding=padding_type,truncating=trunc_type,maxlen=max_length)\n"
   ]
  },
  {
   "cell_type": "code",
   "execution_count": 35,
   "metadata": {
    "scrolled": true
   },
   "outputs": [
    {
     "name": "stdout",
     "output_type": "stream",
     "text": [
      "Model: \"sequential_1\"\n",
      "_________________________________________________________________\n",
      "Layer (type)                 Output Shape              Param #   \n",
      "=================================================================\n",
      "embedding_1 (Embedding)      (None, 16, 16)            16000     \n",
      "_________________________________________________________________\n",
      "global_average_pooling1d_1 ( (None, 16)                0         \n",
      "_________________________________________________________________\n",
      "dense_2 (Dense)              (None, 24)                408       \n",
      "_________________________________________________________________\n",
      "dense_3 (Dense)              (None, 1)                 25        \n",
      "=================================================================\n",
      "Total params: 16,433\n",
      "Trainable params: 16,433\n",
      "Non-trainable params: 0\n",
      "_________________________________________________________________\n"
     ]
    }
   ],
   "source": [
    "model=tf.keras.Sequential([\n",
    "    tf.keras.layers.Embedding(vocab_size,embedding_dim,input_length=max_length),\n",
    "#   tf.keras.layers.Flatten(),\n",
    "    tf.keras.layers.GlobalAveragePooling1D(),\n",
    "    tf.keras.layers.Dense(24,activation='relu'),\n",
    "    tf.keras.layers.Dense(1,activation='sigmoid')\n",
    "])\n",
    "model.compile(loss='binary_crossentropy',optimizer='adam',metrics=['accuracy'])\n",
    "model.summary()"
   ]
  },
  {
   "cell_type": "code",
   "execution_count": 36,
   "metadata": {},
   "outputs": [
    {
     "name": "stdout",
     "output_type": "stream",
     "text": [
      "Train on 20000 samples, validate on 6709 samples\n",
      "Epoch 1/30\n",
      "20000/20000 - 2s - loss: 0.5296 - acc: 0.7265 - val_loss: 0.4182 - val_acc: 0.8080\n",
      "Epoch 2/30\n",
      "20000/20000 - 1s - loss: 0.3838 - acc: 0.8263 - val_loss: 0.4005 - val_acc: 0.8134\n",
      "Epoch 3/30\n",
      "20000/20000 - 1s - loss: 0.3661 - acc: 0.8335 - val_loss: 0.4152 - val_acc: 0.8050\n",
      "Epoch 4/30\n",
      "20000/20000 - 1s - loss: 0.3600 - acc: 0.8342 - val_loss: 0.4045 - val_acc: 0.8143\n",
      "Epoch 5/30\n",
      "20000/20000 - 1s - loss: 0.3573 - acc: 0.8389 - val_loss: 0.4062 - val_acc: 0.8120\n",
      "Epoch 6/30\n",
      "20000/20000 - 1s - loss: 0.3553 - acc: 0.8391 - val_loss: 0.4064 - val_acc: 0.8107\n",
      "Epoch 7/30\n",
      "20000/20000 - 1s - loss: 0.3554 - acc: 0.8375 - val_loss: 0.4065 - val_acc: 0.8132\n",
      "Epoch 8/30\n",
      "20000/20000 - 1s - loss: 0.3536 - acc: 0.8380 - val_loss: 0.4068 - val_acc: 0.8119\n",
      "Epoch 9/30\n",
      "20000/20000 - 1s - loss: 0.3523 - acc: 0.8400 - val_loss: 0.4077 - val_acc: 0.8123\n",
      "Epoch 10/30\n",
      "20000/20000 - 1s - loss: 0.3521 - acc: 0.8407 - val_loss: 0.4111 - val_acc: 0.8067\n",
      "Epoch 11/30\n",
      "20000/20000 - 1s - loss: 0.3510 - acc: 0.8389 - val_loss: 0.4079 - val_acc: 0.8116\n",
      "Epoch 12/30\n",
      "20000/20000 - 1s - loss: 0.3511 - acc: 0.8392 - val_loss: 0.4084 - val_acc: 0.8132\n",
      "Epoch 13/30\n",
      "20000/20000 - 1s - loss: 0.3507 - acc: 0.8406 - val_loss: 0.4087 - val_acc: 0.8125\n",
      "Epoch 14/30\n",
      "20000/20000 - 1s - loss: 0.3503 - acc: 0.8400 - val_loss: 0.4074 - val_acc: 0.8095\n",
      "Epoch 15/30\n",
      "20000/20000 - 1s - loss: 0.3490 - acc: 0.8414 - val_loss: 0.4080 - val_acc: 0.8104\n",
      "Epoch 16/30\n",
      "20000/20000 - 1s - loss: 0.3494 - acc: 0.8399 - val_loss: 0.4072 - val_acc: 0.8132\n",
      "Epoch 17/30\n",
      "20000/20000 - 1s - loss: 0.3483 - acc: 0.8425 - val_loss: 0.4073 - val_acc: 0.8120\n",
      "Epoch 18/30\n",
      "20000/20000 - 1s - loss: 0.3474 - acc: 0.8421 - val_loss: 0.4057 - val_acc: 0.8128\n",
      "Epoch 19/30\n",
      "20000/20000 - 1s - loss: 0.3468 - acc: 0.8408 - val_loss: 0.4146 - val_acc: 0.8043\n",
      "Epoch 20/30\n",
      "20000/20000 - 1s - loss: 0.3454 - acc: 0.8425 - val_loss: 0.4051 - val_acc: 0.8134\n",
      "Epoch 21/30\n",
      "20000/20000 - 1s - loss: 0.3439 - acc: 0.8435 - val_loss: 0.4033 - val_acc: 0.8119\n",
      "Epoch 22/30\n",
      "20000/20000 - 1s - loss: 0.3426 - acc: 0.8422 - val_loss: 0.4008 - val_acc: 0.8128\n",
      "Epoch 23/30\n",
      "20000/20000 - 1s - loss: 0.3395 - acc: 0.8448 - val_loss: 0.4018 - val_acc: 0.8132\n",
      "Epoch 24/30\n",
      "20000/20000 - 1s - loss: 0.3362 - acc: 0.8460 - val_loss: 0.3982 - val_acc: 0.8173\n",
      "Epoch 25/30\n",
      "20000/20000 - 1s - loss: 0.3342 - acc: 0.8485 - val_loss: 0.4002 - val_acc: 0.8183\n",
      "Epoch 26/30\n",
      "20000/20000 - 2s - loss: 0.3311 - acc: 0.8490 - val_loss: 0.3990 - val_acc: 0.8202\n",
      "Epoch 27/30\n",
      "20000/20000 - 2s - loss: 0.3288 - acc: 0.8515 - val_loss: 0.4009 - val_acc: 0.8171\n",
      "Epoch 28/30\n",
      "20000/20000 - 2s - loss: 0.3267 - acc: 0.8519 - val_loss: 0.3977 - val_acc: 0.8186\n",
      "Epoch 29/30\n",
      "20000/20000 - 1s - loss: 0.3237 - acc: 0.8547 - val_loss: 0.3957 - val_acc: 0.8235\n",
      "Epoch 30/30\n",
      "20000/20000 - 1s - loss: 0.3212 - acc: 0.8569 - val_loss: 0.3971 - val_acc: 0.8243\n"
     ]
    }
   ],
   "source": [
    "num_epochs=30\n",
    "history=model.fit(padded,training_labels,epochs=num_epochs,validation_data=(testing_padded,testing_labels),verbose=2)"
   ]
  },
  {
   "cell_type": "code",
   "execution_count": 37,
   "metadata": {},
   "outputs": [
    {
     "data": {
      "image/png": "[encoded data removed]",
      "text/plain": [
       "<Figure size 432x288 with 1 Axes>"
      ]
     },
     "metadata": {
      "needs_background": "light"
     },
     "output_type": "display_data"
    },
    {
     "data": {
      "image/png": "[encoded data removed]",
      "text/plain": [
       "<Figure size 432x288 with 1 Axes>"
      ]
     },
     "metadata": {
      "needs_background": "light"
     },
     "output_type": "display_data"
    }
   ],
   "source": [
    "import matplotlib.pyplot as plt\n",
    "def plot_graphs(history,string):\n",
    "    plt.plot(history.history[string])\n",
    "    plt.plot(history.history['val_'+string])\n",
    "    plt.xlabel(\"Epochs\")\n",
    "    plt.ylabel(string)\n",
    "    plt.legend([string,'val_'+string])\n",
    "    plt.show()\n",
    "plot_graphs(history,\"acc\")\n",
    "plot_graphs(history,\"loss\")\n",
    "    \n",
    "    "
   ]
  },
  {
   "cell_type": "code",
   "execution_count": 39,
   "metadata": {},
   "outputs": [
    {
     "name": "stderr",
     "output_type": "stream",
     "text": [
      "W0624 11:29:15.102377 4321379200 deprecation.py:506] From /Library/Frameworks/Python.framework/Versions/3.6/lib/python3.6/site-packages/tensorflow/python/ops/init_ops.py:97: calling GlorotUniform.__init__ (from tensorflow.python.ops.init_ops) with dtype is deprecated and will be removed in a future version.\n",
      "Instructions for updating:\n",
      "Call initializer instance with the dtype argument instead of passing it to the constructor\n",
      "W0624 11:29:15.107621 4321379200 deprecation.py:506] From /Library/Frameworks/Python.framework/Versions/3.6/lib/python3.6/site-packages/tensorflow/python/ops/init_ops.py:97: calling Orthogonal.__init__ (from tensorflow.python.ops.init_ops) with dtype is deprecated and will be removed in a future version.\n",
      "Instructions for updating:\n",
      "Call initializer instance with the dtype argument instead of passing it to the constructor\n",
      "W0624 11:29:15.109215 4321379200 deprecation.py:506] From /Library/Frameworks/Python.framework/Versions/3.6/lib/python3.6/site-packages/tensorflow/python/ops/init_ops.py:97: calling Zeros.__init__ (from tensorflow.python.ops.init_ops) with dtype is deprecated and will be removed in a future version.\n",
      "Instructions for updating:\n",
      "Call initializer instance with the dtype argument instead of passing it to the constructor\n"
     ]
    },
    {
     "name": "stdout",
     "output_type": "stream",
     "text": [
      "Model: \"sequential_2\"\n",
      "_________________________________________________________________\n",
      "Layer (type)                 Output Shape              Param #   \n",
      "=================================================================\n",
      "embedding_3 (Embedding)      (None, 16, 16)            16000     \n",
      "_________________________________________________________________\n",
      "bidirectional (Bidirectional (None, 128)               41472     \n",
      "_________________________________________________________________\n",
      "dense_4 (Dense)              (None, 64)                8256      \n",
      "_________________________________________________________________\n",
      "dense_5 (Dense)              (None, 1)                 65        \n",
      "=================================================================\n",
      "Total params: 65,793\n",
      "Trainable params: 65,793\n",
      "Non-trainable params: 0\n",
      "_________________________________________________________________\n"
     ]
    }
   ],
   "source": [
    "model=tf.keras.Sequential([\n",
    "    tf.keras.layers.Embedding(vocab_size,embedding_dim,input_length=max_length),\n",
    "#   tf.keras.layers.Flatten(),\n",
    "    tf.keras.layers.Bidirectional(tf.keras.layers.LSTM(64)),\n",
    "    tf.keras.layers.Dense(64,activation='relu'),\n",
    "    tf.keras.layers.Dense(1,activation='sigmoid')\n",
    "])\n",
    "model.compile(loss='binary_crossentropy',optimizer='adam',metrics=['accuracy'])\n",
    "model.summary()"
   ]
  },
  {
   "cell_type": "code",
   "execution_count": 40,
   "metadata": {},
   "outputs": [
    {
     "name": "stdout",
     "output_type": "stream",
     "text": [
      "Model: \"sequential_3\"\n",
      "_________________________________________________________________\n",
      "Layer (type)                 Output Shape              Param #   \n",
      "=================================================================\n",
      "embedding_4 (Embedding)      (None, 16, 16)            16000     \n",
      "_________________________________________________________________\n",
      "bidirectional_1 (Bidirection (None, 16, 128)           41472     \n",
      "_________________________________________________________________\n",
      "bidirectional_2 (Bidirection (None, 64)                41216     \n",
      "_________________________________________________________________\n",
      "dense_6 (Dense)              (None, 64)                4160      \n",
      "_________________________________________________________________\n",
      "dense_7 (Dense)              (None, 1)                 65        \n",
      "=================================================================\n",
      "Total params: 102,913\n",
      "Trainable params: 102,913\n",
      "Non-trainable params: 0\n",
      "_________________________________________________________________\n"
     ]
    }
   ],
   "source": [
    "model=tf.keras.Sequential([\n",
    "    tf.keras.layers.Embedding(vocab_size,embedding_dim,input_length=max_length),\n",
    "#   tf.keras.layers.Flatten(),\n",
    "    tf.keras.layers.Bidirectional(tf.keras.layers.LSTM(64,return_sequences=True)),\n",
    "    tf.keras.layers.Bidirectional(tf.keras.layers.LSTM(32)),    \n",
    "    tf.keras.layers.Dense(64,activation='relu'),\n",
    "    tf.keras.layers.Dense(1,activation='sigmoid')\n",
    "])\n",
    "model.compile(loss='binary_crossentropy',optimizer='adam',metrics=['accuracy'])\n",
    "model.summary()"
   ]
  },
  {
   "cell_type": "code",
   "execution_count": null,
   "metadata": {},
   "outputs": [],
   "source": []
  }
 ],
 "metadata": {
  "kernelspec": {
   "display_name": "Python 3",
   "language": "python",
   "name": "python3"
  },
  "language_info": {
   "codemirror_mode": {
    "name": "ipython",
    "version": 3
   },
   "file_extension": ".py",
   "mimetype": "text/x-python",
   "name": "python",
   "nbconvert_exporter": "python",
   "pygments_lexer": "ipython3",
   "version": "3.6.2"
  }
 },
 "nbformat": 4,
 "nbformat_minor": 2
}
